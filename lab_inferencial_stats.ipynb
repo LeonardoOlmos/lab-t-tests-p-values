{
 "cells": [
  {
   "cell_type": "markdown",
   "id": "63ae8a5f-2cca-451d-83e8-bb14795caa71",
   "metadata": {},
   "source": [
    "# Lab | Inferencial statistics - T-test & P-value"
   ]
  },
  {
   "cell_type": "code",
   "execution_count": 3,
   "id": "be085445-9334-467a-bd68-4bc6f616c270",
   "metadata": {},
   "outputs": [],
   "source": [
    "import numpy as np\n",
    "import scipy.stats as st\n",
    "import math\n",
    "import statistics"
   ]
  },
  {
   "cell_type": "markdown",
   "id": "44b613dc-66c3-4694-9102-e29a236ade9f",
   "metadata": {},
   "source": [
    "1. In a packing plant, a machine packs cartons with jars. It is supposed that a new machine will pack faster on the average than the machine currently used. \n",
    "To test that hypothesis, the times it takes each machine to pack ten cartons are recorded. The results, in seconds, are shown in the tables in the file files_for_lab/machine.txt. \n",
    "Assume that there is sufficient evidence to conduct the t test, does the data provide sufficient evidence to show if one machine is better than the other"
   ]
  },
  {
   "cell_type": "markdown",
   "id": "3b3316c2-f210-4e3c-93a7-252e9edea9a8",
   "metadata": {},
   "source": [
    "$ H_0: \\mu_{before} = \\mu_{after} $\n",
    "\n",
    "$ H_1: \\mu_{before} \\le \\mu_{after} $"
   ]
  },
  {
   "cell_type": "markdown",
   "id": "846f02a4-e2fb-47b2-bcd7-ecdcf4a041ca",
   "metadata": {},
   "source": [
    "- We assume that variances are equal but unknown that's why we can use pooled variances test"
   ]
  },
  {
   "cell_type": "code",
   "execution_count": 4,
   "id": "a469d8a2-3f59-4a0a-b5cc-e409e9fde1e7",
   "metadata": {},
   "outputs": [
    {
     "name": "stdout",
     "output_type": "stream",
     "text": [
      "Sample mean for old machine times: 43.23 \n",
      "Sample standar deviation for old machine times: 0.75 \n",
      "Sample length for old machine times: 10\n"
     ]
    }
   ],
   "source": [
    "# Old machine values\n",
    "sample1 = [42.7, 43.6, 43.8, 43.3, 42.5, 43.5, 43.1, 41.7, 44, 44.1]\n",
    "\n",
    "n1 = len(sample1)\n",
    "\n",
    "sample_mean_n1 = np.mean(sample1)\n",
    "\n",
    "sample_std_n1 = statistics.stdev(sample1)\n",
    "\n",
    "print('Sample mean for old machine times: {:.2f} \\nSample standar deviation for old machine times: {:.2f} \\nSample length for old machine times: {}'.format(sample_mean_n1, sample_std_n1, n1))"
   ]
  },
  {
   "cell_type": "code",
   "execution_count": 5,
   "id": "e961328f-2d94-425c-8664-b6fae8b34849",
   "metadata": {},
   "outputs": [
    {
     "name": "stdout",
     "output_type": "stream",
     "text": [
      "Sample mean for new machine times: 42.14 \n",
      "Sample standar deviation for new machine times: 0.68 \n",
      "Sample length for new machine times: 10\n"
     ]
    }
   ],
   "source": [
    "# New machine values\n",
    "sample2 = [42.1, 41, 41.3, 41.8, 42.4, 42.8, 43.2, 42.3, 41.8, 42.7]\n",
    "\n",
    "n2 = len(sample2)\n",
    "\n",
    "sample_mean_n2 = np.mean(sample2)\n",
    "\n",
    "sample_std_n2 = statistics.stdev(sample2)\n",
    "\n",
    "print('Sample mean for new machine times: {:.2f} \\nSample standar deviation for new machine times: {:.2f} \\nSample length for new machine times: {}'.format(sample_mean_n2, sample_std_n2, n2))"
   ]
  },
  {
   "cell_type": "code",
   "execution_count": 6,
   "id": "6c1d5fa1-7a43-478a-b2ad-9697dfd3a9bd",
   "metadata": {},
   "outputs": [
    {
     "data": {
      "text/plain": [
       "0.7174414416676962"
      ]
     },
     "execution_count": 6,
     "metadata": {},
     "output_type": "execute_result"
    }
   ],
   "source": [
    "pooled_sample_std = math.sqrt(((n1-1)*sample_std_n1**2 + (n2-1)*sample_std_n2**2)/(n1+n2-2))\n",
    "pooled_sample_std"
   ]
  },
  {
   "cell_type": "code",
   "execution_count": 7,
   "id": "ab6ed177-1d1d-46a6-b573-874e0c5c5333",
   "metadata": {},
   "outputs": [
    {
     "data": {
      "text/plain": [
       "3.3972307061176026"
      ]
     },
     "execution_count": 7,
     "metadata": {},
     "output_type": "execute_result"
    }
   ],
   "source": [
    "statistic = (sample_mean_n1-sample_mean_n2)/(pooled_sample_std*math.sqrt((1/n1)+(1/n2)))\n",
    "statistic"
   ]
  },
  {
   "cell_type": "code",
   "execution_count": 11,
   "id": "761cbbbc-b6f1-4400-8006-270b1a332ddf",
   "metadata": {},
   "outputs": [
    {
     "data": {
      "text/plain": [
       "-2.10092204024096"
      ]
     },
     "execution_count": 11,
     "metadata": {},
     "output_type": "execute_result"
    }
   ],
   "source": [
    "critical_value = st.t.ppf(0.025, n1+n2-2)\n",
    "critical_value"
   ]
  },
  {
   "cell_type": "markdown",
   "id": "eb7600ca-1493-4513-8d88-382fafb9e313",
   "metadata": {},
   "source": [
    "- We fail to reject the null hypothesis. We can't be sure that the new machine is better that the older one."
   ]
  },
  {
   "cell_type": "markdown",
   "id": "a7fbd7a9-85b1-4cb1-84c0-8dd863e76f08",
   "metadata": {},
   "source": [
    "-----------------------"
   ]
  },
  {
   "cell_type": "code",
   "execution_count": 9,
   "id": "37eb204e-3fb1-4a4a-b8e0-617f287a3cd8",
   "metadata": {},
   "outputs": [
    {
     "data": {
      "text/plain": [
       "Ttest_indResult(statistic=3.3972307061176026, pvalue=0.9983944287496127)"
      ]
     },
     "execution_count": 9,
     "metadata": {},
     "output_type": "execute_result"
    }
   ],
   "source": [
    "st.ttest_ind(a = sample1, b = sample2, alternative = \"less\") "
   ]
  },
  {
   "cell_type": "markdown",
   "id": "5210c76f-23a6-4787-975b-552290fc9943",
   "metadata": {},
   "source": [
    "2. An additional problem (not mandatory): In this case we can't assume that the population variances are equal. Hence in this case we cannot pool the variances. \n",
    "Independent random samples of 17 sophomores and 13 juniors attending a large university yield the following data on grade point averages. Data is provided in the file files_for_lab/student_gpa.txt. \n",
    "At the 5% significance level, do the data provide sufficient evidence to conclude that the mean GPAs of sophomores and juniors at the university differ?"
   ]
  },
  {
   "cell_type": "markdown",
   "id": "6552cc85-f006-4c37-b576-d4701b9cea38",
   "metadata": {},
   "source": [
    "$ H_0: \\mu_{sophomores} = \\mu_{juniors} $\n",
    "\n",
    "$ H_1: \\mu_{sophomores} \\neq \\mu_{juniors} $"
   ]
  },
  {
   "cell_type": "code",
   "execution_count": 16,
   "id": "b0d1fd7e-1933-4186-a334-c518d4f854a5",
   "metadata": {},
   "outputs": [],
   "source": [
    "# Sophomores data\n",
    "sample1 = [3.04, 1.71, 3.3, 2.88, 2.11, 2.6, 2.92, 3.6, 2.28, 2.82, 3.03, 3.13, 2.86, 3.49, 3.11, 2.13, 3.27]\n",
    "\n",
    "n1 = len(sample1)\n",
    "\n",
    "sample_mean_n1 = np.mean(sample1)\n",
    "\n",
    "sample_std_n1 = statistics.stdev(sample1)"
   ]
  },
  {
   "cell_type": "code",
   "execution_count": 17,
   "id": "ee66528f-f3a1-4732-999f-8c66655871fd",
   "metadata": {},
   "outputs": [],
   "source": [
    "# Juniors data\n",
    "sample2 = [2.56, 2.77, 2.7, 3, 2.98, 3.47, 3.26, 3.2, 3.19, 2.65, 3, 3.39, 2.58]\n",
    "\n",
    "n2 = len(sample2)\n",
    "\n",
    "sample_mean_n2 = np.mean(sample2)\n",
    "\n",
    "sample_std_n2 = statistics.stdev(sample2)"
   ]
  },
  {
   "cell_type": "code",
   "execution_count": 19,
   "id": "6e94c487-0dd6-4095-b729-4412761f48c2",
   "metadata": {},
   "outputs": [
    {
     "data": {
      "text/plain": [
       "-0.9231495630900276"
      ]
     },
     "execution_count": 19,
     "metadata": {},
     "output_type": "execute_result"
    }
   ],
   "source": [
    "statistic = (sample_mean_n1-sample_mean_n2-0)/math.sqrt((sample_std_n1**2/n1)+(sample_std_n2**2/n2))\n",
    "statistic"
   ]
  },
  {
   "cell_type": "code",
   "execution_count": 20,
   "id": "7c16e96d-25be-4cb6-b1b8-b4513f665f87",
   "metadata": {},
   "outputs": [
    {
     "data": {
      "text/plain": [
       "(-2.048407141795244, 2.048407141795244)"
      ]
     },
     "execution_count": 20,
     "metadata": {},
     "output_type": "execute_result"
    }
   ],
   "source": [
    "critical_value_lower = st.t.ppf(0.025, n1+n2-2)\n",
    "critical_value_upper = st.t.ppf(1-0.025, n1+n2-2)\n",
    "critical_value_lower, critical_value_upper"
   ]
  },
  {
   "cell_type": "code",
   "execution_count": 18,
   "id": "7c4caa2d-e4d7-4686-b158-2199ec317be9",
   "metadata": {},
   "outputs": [
    {
     "data": {
      "text/plain": [
       "Ttest_indResult(statistic=-0.864325455323425, pvalue=0.39475359666695975)"
      ]
     },
     "execution_count": 18,
     "metadata": {},
     "output_type": "execute_result"
    }
   ],
   "source": [
    "st.ttest_ind(sample1, sample2, alternative = \"two-sided\") "
   ]
  },
  {
   "cell_type": "markdown",
   "id": "3d442c28-f2b9-4966-82ec-789747de60e7",
   "metadata": {},
   "source": [
    "- Since the p-value is greater than 0.05, we accept the null hypothesis: we have enough evidence to say, with 95% confidence level, that the mean grade points between sophomores and juniors are not equal."
   ]
  },
  {
   "cell_type": "code",
   "execution_count": null,
   "id": "8711ad68-3f42-484f-983e-82c9e97b696f",
   "metadata": {},
   "outputs": [],
   "source": []
  }
 ],
 "metadata": {
  "kernelspec": {
   "display_name": "ironhack",
   "language": "python",
   "name": "ironhack"
  },
  "language_info": {
   "codemirror_mode": {
    "name": "ipython",
    "version": 3
   },
   "file_extension": ".py",
   "mimetype": "text/x-python",
   "name": "python",
   "nbconvert_exporter": "python",
   "pygments_lexer": "ipython3",
   "version": "3.9.2"
  }
 },
 "nbformat": 4,
 "nbformat_minor": 5
}
